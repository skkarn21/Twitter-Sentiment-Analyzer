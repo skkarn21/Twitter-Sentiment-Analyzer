{
 "cells": [
  {
   "cell_type": "code",
   "execution_count": 14,
   "metadata": {
    "executionInfo": {
     "elapsed": 1847,
     "status": "ok",
     "timestamp": 1617359696732,
     "user": {
      "displayName": "Sagar Kumar Karn",
      "photoUrl": "",
      "userId": "13390448591546102842"
     },
     "user_tz": -330
    },
    "id": "ED2lcONQ7JT6"
   },
   "outputs": [],
   "source": [
    "import matplotlib.pyplot as plt \n",
    "import tensorflow as tf\n",
    "import keras\n",
    "import numpy as np\n",
    "import pandas as pd\n",
    "import re\n",
    "import string\n",
    "import nltk\n",
    "\n",
    "from nltk.corpus import stopwords\n",
    "from nltk.corpus import wordnet\n",
    "from nltk.stem import WordNetLemmatizer\n",
    "from nltk.tokenize.treebank import TreebankWordDetokenizer\n",
    "from collections import Counter\n",
    "from wordcloud import WordCloud\n",
    "from gensim.utils import simple_preprocess\n",
    "import gensim\n",
    "from sklearn.model_selection import train_test_split\n",
    "import spacy\n",
    "import pickle\n",
    "import warnings\n",
    "warnings.filterwarnings('ignore')\n",
    "import seaborn as sns\n",
    "from sklearn.metrics import confusion_matrix\n",
    "\n"
   ]
  },
  {
   "cell_type": "code",
   "execution_count": 15,
   "metadata": {
    "executionInfo": {
     "elapsed": 5076,
     "status": "ok",
     "timestamp": 1617359710843,
     "user": {
      "displayName": "Sagar Kumar Karn",
      "photoUrl": "",
      "userId": "13390448591546102842"
     },
     "user_tz": -330
    },
    "id": "jza6bKvS7MHU"
   },
   "outputs": [],
   "source": [
    "! pip install -q kaggle"
   ]
  },
  {
   "cell_type": "code",
   "execution_count": 28,
   "metadata": {
    "colab": {
     "base_uri": "https://localhost:8080/",
     "height": 91,
     "resources": {
      "http://localhost:8080/nbextensions/google.colab/files.js": {
       "data": "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",
       "headers": [
        [
         "content-type",
         "application/javascript"
        ]
       ],
       "ok": true,
       "status": 200,
       "status_text": ""
      }
     }
    },
    "executionInfo": {
     "elapsed": 16736,
     "status": "ok",
     "timestamp": 1617361294519,
     "user": {
      "displayName": "Sagar Kumar Karn",
      "photoUrl": "",
      "userId": "13390448591546102842"
     },
     "user_tz": -330
    },
    "id": "8braRX5n8H-x",
    "outputId": "cc93865f-1ea2-4b1b-a9cb-bde220758065"
   },
   "outputs": [
    {
     "data": {
      "text/html": [
       "\n",
       "     <input type=\"file\" id=\"files-90930aff-c949-41b4-a7d9-b56b999693e8\" name=\"files[]\" multiple disabled\n",
       "        style=\"border:none\" />\n",
       "     <output id=\"result-90930aff-c949-41b4-a7d9-b56b999693e8\">\n",
       "      Upload widget is only available when the cell has been executed in the\n",
       "      current browser session. Please rerun this cell to enable.\n",
       "      </output>\n",
       "      <script src=\"/nbextensions/google.colab/files.js\"></script> "
      ],
      "text/plain": [
       "<IPython.core.display.HTML object>"
      ]
     },
     "metadata": {
      "tags": []
     },
     "output_type": "display_data"
    },
    {
     "name": "stdout",
     "output_type": "stream",
     "text": [
      "Saving kaggle.json to kaggle.json\n"
     ]
    },
    {
     "data": {
      "text/plain": [
       "{'kaggle.json': b'{\"username\":\"sagarkumarkarn\",\"key\":\"dfe95288efb6f7e9ec19ba6397ce6d10\"}'}"
      ]
     },
     "execution_count": 28,
     "metadata": {
      "tags": []
     },
     "output_type": "execute_result"
    }
   ],
   "source": [
    "from google.colab import files\n",
    "\n",
    "files.upload()"
   ]
  },
  {
   "cell_type": "code",
   "execution_count": 29,
   "metadata": {
    "colab": {
     "base_uri": "https://localhost:8080/"
    },
    "executionInfo": {
     "elapsed": 1270,
     "status": "ok",
     "timestamp": 1617361312873,
     "user": {
      "displayName": "Sagar Kumar Karn",
      "photoUrl": "",
      "userId": "13390448591546102842"
     },
     "user_tz": -330
    },
    "id": "P4Mz0V43Imcr",
    "outputId": "1e634536-6668-49ba-a030-7d50a3c75ed7"
   },
   "outputs": [
    {
     "name": "stdout",
     "output_type": "stream",
     "text": [
      "mkdir: cannot create directory ‘/root/.kaggle’: File exists\n"
     ]
    }
   ],
   "source": [
    "! mkdir ~/.kaggle\n",
    "\n",
    "! cp kaggle.json ~/.kaggle/"
   ]
  },
  {
   "cell_type": "code",
   "execution_count": 33,
   "metadata": {
    "colab": {
     "base_uri": "https://localhost:8080/"
    },
    "executionInfo": {
     "elapsed": 4390,
     "status": "ok",
     "timestamp": 1617361477405,
     "user": {
      "displayName": "Sagar Kumar Karn",
      "photoUrl": "",
      "userId": "13390448591546102842"
     },
     "user_tz": -330
    },
    "id": "FBw6DhkoJ09Z",
    "outputId": "aad812a0-fc14-4ec1-af61-df7586f0e268"
   },
   "outputs": [
    {
     "name": "stdout",
     "output_type": "stream",
     "text": [
      "Requirement already up-to-date: kaggle in /usr/local/lib/python3.7/dist-packages (1.5.12)\n",
      "Requirement already satisfied, skipping upgrade: six>=1.10 in /usr/local/lib/python3.7/dist-packages (from kaggle) (1.15.0)\n",
      "Requirement already satisfied, skipping upgrade: requests in /usr/local/lib/python3.7/dist-packages (from kaggle) (2.23.0)\n",
      "Requirement already satisfied, skipping upgrade: python-dateutil in /usr/local/lib/python3.7/dist-packages (from kaggle) (2.8.1)\n",
      "Requirement already satisfied, skipping upgrade: python-slugify in /usr/local/lib/python3.7/dist-packages (from kaggle) (4.0.1)\n",
      "Requirement already satisfied, skipping upgrade: certifi in /usr/local/lib/python3.7/dist-packages (from kaggle) (2020.12.5)\n",
      "Requirement already satisfied, skipping upgrade: tqdm in /usr/local/lib/python3.7/dist-packages (from kaggle) (4.41.1)\n",
      "Requirement already satisfied, skipping upgrade: urllib3 in /usr/local/lib/python3.7/dist-packages (from kaggle) (1.24.3)\n",
      "Requirement already satisfied, skipping upgrade: idna<3,>=2.5 in /usr/local/lib/python3.7/dist-packages (from requests->kaggle) (2.10)\n",
      "Requirement already satisfied, skipping upgrade: chardet<4,>=3.0.2 in /usr/local/lib/python3.7/dist-packages (from requests->kaggle) (3.0.4)\n",
      "Requirement already satisfied, skipping upgrade: text-unidecode>=1.3 in /usr/local/lib/python3.7/dist-packages (from python-slugify->kaggle) (1.3)\n"
     ]
    }
   ],
   "source": [
    "!pip install kaggle --upgrade\n"
   ]
  },
  {
   "cell_type": "code",
   "execution_count": 36,
   "metadata": {
    "colab": {
     "base_uri": "https://localhost:8080/"
    },
    "executionInfo": {
     "elapsed": 3881,
     "status": "ok",
     "timestamp": 1617361786030,
     "user": {
      "displayName": "Sagar Kumar Karn",
      "photoUrl": "",
      "userId": "13390448591546102842"
     },
     "user_tz": -330
    },
    "id": "7chjtP-bJ46K",
    "outputId": "8905518e-9f37-4e8b-e7c8-24e1aa055e3a"
   },
   "outputs": [
    {
     "name": "stdout",
     "output_type": "stream",
     "text": [
      "Warning: Your Kaggle API key is readable by other users on this system! To fix this, you can run 'chmod 600 /root/.kaggle/kaggle.json'\n",
      "Warning: Looks like you're using an outdated API Version, please consider updating (server 1.5.12 / client 1.5.4)\n",
      "Downloading train.csv.zip to /content\n",
      "  0% 0.00/1.23M [00:00<?, ?B/s]\n",
      "100% 1.23M/1.23M [00:00<00:00, 77.6MB/s]\n",
      "Downloading test.csv to /content\n",
      "  0% 0.00/307k [00:00<?, ?B/s]\n",
      "100% 307k/307k [00:00<00:00, 98.7MB/s]\n",
      "Downloading sample_submission.csv to /content\n",
      "  0% 0.00/41.4k [00:00<?, ?B/s]\n",
      "100% 41.4k/41.4k [00:00<00:00, 35.2MB/s]\n"
     ]
    }
   ],
   "source": [
    "!kaggle competitions download -c tweet-sentiment-extraction"
   ]
  },
  {
   "cell_type": "code",
   "execution_count": 39,
   "metadata": {
    "executionInfo": {
     "elapsed": 1222,
     "status": "ok",
     "timestamp": 1617362519779,
     "user": {
      "displayName": "Sagar Kumar Karn",
      "photoUrl": "",
      "userId": "13390448591546102842"
     },
     "user_tz": -330
    },
    "id": "xwzW11rEJ_qw"
   },
   "outputs": [],
   "source": [
    "! mkdir train"
   ]
  },
  {
   "cell_type": "code",
   "execution_count": 47,
   "metadata": {
    "colab": {
     "base_uri": "https://localhost:8080/"
    },
    "executionInfo": {
     "elapsed": 1138,
     "status": "ok",
     "timestamp": 1617362767702,
     "user": {
      "displayName": "Sagar Kumar Karn",
      "photoUrl": "",
      "userId": "13390448591546102842"
     },
     "user_tz": -330
    },
    "id": "_Y2NeD76RwnU",
    "outputId": "764c294b-90fd-478a-ddd4-8a4b6648861c"
   },
   "outputs": [
    {
     "name": "stdout",
     "output_type": "stream",
     "text": [
      "Archive:  train.csv.zip\n",
      "  inflating: train/train.csv         \n"
     ]
    }
   ],
   "source": [
    "! unzip train.csv.zip -d train"
   ]
  },
  {
   "cell_type": "code",
   "execution_count": 48,
   "metadata": {
    "colab": {
     "base_uri": "https://localhost:8080/"
    },
    "executionInfo": {
     "elapsed": 1543,
     "status": "ok",
     "timestamp": 1617362772785,
     "user": {
      "displayName": "Sagar Kumar Karn",
      "photoUrl": "",
      "userId": "13390448591546102842"
     },
     "user_tz": -330
    },
    "id": "66-ctyI8UgjN",
    "outputId": "68f96bcf-dac4-4b61-d13d-4a145152e5e7"
   },
   "outputs": [
    {
     "name": "stdout",
     "output_type": "stream",
     "text": [
      "'kaggle (1).json'       kaggle.json             test.csv\n",
      "'kaggle (2) (1).json'   \u001b[0m\u001b[01;34msample_data\u001b[0m/            \u001b[01;34mtrain\u001b[0m/\n",
      "'kaggle (2).json'       sample_submission.csv   train.csv.zip\n"
     ]
    }
   ],
   "source": [
    "ls"
   ]
  },
  {
   "cell_type": "code",
   "execution_count": 50,
   "metadata": {
    "executionInfo": {
     "elapsed": 1298,
     "status": "ok",
     "timestamp": 1617362853022,
     "user": {
      "displayName": "Sagar Kumar Karn",
      "photoUrl": "",
      "userId": "13390448591546102842"
     },
     "user_tz": -330
    },
    "id": "e4cIzwN1Un_V"
   },
   "outputs": [],
   "source": [
    "train_data = pd.read_csv('train/train.csv')\n"
   ]
  },
  {
   "cell_type": "code",
   "execution_count": 54,
   "metadata": {
    "colab": {
     "base_uri": "https://localhost:8080/",
     "height": 639
    },
    "executionInfo": {
     "elapsed": 1441,
     "status": "ok",
     "timestamp": 1617362903967,
     "user": {
      "displayName": "Sagar Kumar Karn",
      "photoUrl": "",
      "userId": "13390448591546102842"
     },
     "user_tz": -330
    },
    "id": "66cLTOFQUwYa",
    "outputId": "4652e8bf-316b-4e7e-8d6c-67f787716f84"
   },
   "outputs": [
    {
     "data": {
      "text/html": [
       "<div>\n",
       "<style scoped>\n",
       "    .dataframe tbody tr th:only-of-type {\n",
       "        vertical-align: middle;\n",
       "    }\n",
       "\n",
       "    .dataframe tbody tr th {\n",
       "        vertical-align: top;\n",
       "    }\n",
       "\n",
       "    .dataframe thead th {\n",
       "        text-align: right;\n",
       "    }\n",
       "</style>\n",
       "<table border=\"1\" class=\"dataframe\">\n",
       "  <thead>\n",
       "    <tr style=\"text-align: right;\">\n",
       "      <th></th>\n",
       "      <th>textID</th>\n",
       "      <th>text</th>\n",
       "      <th>selected_text</th>\n",
       "      <th>sentiment</th>\n",
       "    </tr>\n",
       "  </thead>\n",
       "  <tbody>\n",
       "    <tr>\n",
       "      <th>0</th>\n",
       "      <td>cb774db0d1</td>\n",
       "      <td>I`d have responded, if I were going</td>\n",
       "      <td>I`d have responded, if I were going</td>\n",
       "      <td>neutral</td>\n",
       "    </tr>\n",
       "    <tr>\n",
       "      <th>1</th>\n",
       "      <td>549e992a42</td>\n",
       "      <td>Sooo SAD I will miss you here in San Diego!!!</td>\n",
       "      <td>Sooo SAD</td>\n",
       "      <td>negative</td>\n",
       "    </tr>\n",
       "    <tr>\n",
       "      <th>2</th>\n",
       "      <td>088c60f138</td>\n",
       "      <td>my boss is bullying me...</td>\n",
       "      <td>bullying me</td>\n",
       "      <td>negative</td>\n",
       "    </tr>\n",
       "    <tr>\n",
       "      <th>3</th>\n",
       "      <td>9642c003ef</td>\n",
       "      <td>what interview! leave me alone</td>\n",
       "      <td>leave me alone</td>\n",
       "      <td>negative</td>\n",
       "    </tr>\n",
       "    <tr>\n",
       "      <th>4</th>\n",
       "      <td>358bd9e861</td>\n",
       "      <td>Sons of ****, why couldn`t they put them on t...</td>\n",
       "      <td>Sons of ****,</td>\n",
       "      <td>negative</td>\n",
       "    </tr>\n",
       "    <tr>\n",
       "      <th>5</th>\n",
       "      <td>28b57f3990</td>\n",
       "      <td>http://www.dothebouncy.com/smf - some shameles...</td>\n",
       "      <td>http://www.dothebouncy.com/smf - some shameles...</td>\n",
       "      <td>neutral</td>\n",
       "    </tr>\n",
       "    <tr>\n",
       "      <th>6</th>\n",
       "      <td>6e0c6d75b1</td>\n",
       "      <td>2am feedings for the baby are fun when he is a...</td>\n",
       "      <td>fun</td>\n",
       "      <td>positive</td>\n",
       "    </tr>\n",
       "    <tr>\n",
       "      <th>7</th>\n",
       "      <td>50e14c0bb8</td>\n",
       "      <td>Soooo high</td>\n",
       "      <td>Soooo high</td>\n",
       "      <td>neutral</td>\n",
       "    </tr>\n",
       "    <tr>\n",
       "      <th>8</th>\n",
       "      <td>e050245fbd</td>\n",
       "      <td>Both of you</td>\n",
       "      <td>Both of you</td>\n",
       "      <td>neutral</td>\n",
       "    </tr>\n",
       "    <tr>\n",
       "      <th>9</th>\n",
       "      <td>fc2cbefa9d</td>\n",
       "      <td>Journey!? Wow... u just became cooler.  hehe....</td>\n",
       "      <td>Wow... u just became cooler.</td>\n",
       "      <td>positive</td>\n",
       "    </tr>\n",
       "    <tr>\n",
       "      <th>10</th>\n",
       "      <td>2339a9b08b</td>\n",
       "      <td>as much as i love to be hopeful, i reckon the...</td>\n",
       "      <td>as much as i love to be hopeful, i reckon the ...</td>\n",
       "      <td>neutral</td>\n",
       "    </tr>\n",
       "    <tr>\n",
       "      <th>11</th>\n",
       "      <td>16fab9f95b</td>\n",
       "      <td>I really really like the song Love Story by Ta...</td>\n",
       "      <td>like</td>\n",
       "      <td>positive</td>\n",
       "    </tr>\n",
       "    <tr>\n",
       "      <th>12</th>\n",
       "      <td>74a76f6e0a</td>\n",
       "      <td>My Sharpie is running DANGERously low on ink</td>\n",
       "      <td>DANGERously</td>\n",
       "      <td>negative</td>\n",
       "    </tr>\n",
       "    <tr>\n",
       "      <th>13</th>\n",
       "      <td>04dd1d2e34</td>\n",
       "      <td>i want to go to music tonight but i lost my vo...</td>\n",
       "      <td>lost</td>\n",
       "      <td>negative</td>\n",
       "    </tr>\n",
       "    <tr>\n",
       "      <th>14</th>\n",
       "      <td>bbe3cbf620</td>\n",
       "      <td>test test from the LG enV2</td>\n",
       "      <td>test test from the LG enV2</td>\n",
       "      <td>neutral</td>\n",
       "    </tr>\n",
       "    <tr>\n",
       "      <th>15</th>\n",
       "      <td>8a939bfb59</td>\n",
       "      <td>Uh oh, I am sunburned</td>\n",
       "      <td>Uh oh, I am sunburned</td>\n",
       "      <td>negative</td>\n",
       "    </tr>\n",
       "    <tr>\n",
       "      <th>16</th>\n",
       "      <td>3440297f8b</td>\n",
       "      <td>S`ok, trying to plot alternatives as we speak...</td>\n",
       "      <td>*sigh*</td>\n",
       "      <td>negative</td>\n",
       "    </tr>\n",
       "    <tr>\n",
       "      <th>17</th>\n",
       "      <td>919fa93391</td>\n",
       "      <td>i`ve been sick for the past few days  and thus...</td>\n",
       "      <td>sick</td>\n",
       "      <td>negative</td>\n",
       "    </tr>\n",
       "    <tr>\n",
       "      <th>18</th>\n",
       "      <td>af3fed7fc3</td>\n",
       "      <td>is back home now      gonna miss every one</td>\n",
       "      <td>onna</td>\n",
       "      <td>negative</td>\n",
       "    </tr>\n",
       "    <tr>\n",
       "      <th>19</th>\n",
       "      <td>40e7becabf</td>\n",
       "      <td>Hes just not that into you</td>\n",
       "      <td>Hes just not that into you</td>\n",
       "      <td>neutral</td>\n",
       "    </tr>\n",
       "  </tbody>\n",
       "</table>\n",
       "</div>"
      ],
      "text/plain": [
       "        textID  ... sentiment\n",
       "0   cb774db0d1  ...   neutral\n",
       "1   549e992a42  ...  negative\n",
       "2   088c60f138  ...  negative\n",
       "3   9642c003ef  ...  negative\n",
       "4   358bd9e861  ...  negative\n",
       "5   28b57f3990  ...   neutral\n",
       "6   6e0c6d75b1  ...  positive\n",
       "7   50e14c0bb8  ...   neutral\n",
       "8   e050245fbd  ...   neutral\n",
       "9   fc2cbefa9d  ...  positive\n",
       "10  2339a9b08b  ...   neutral\n",
       "11  16fab9f95b  ...  positive\n",
       "12  74a76f6e0a  ...  negative\n",
       "13  04dd1d2e34  ...  negative\n",
       "14  bbe3cbf620  ...   neutral\n",
       "15  8a939bfb59  ...  negative\n",
       "16  3440297f8b  ...  negative\n",
       "17  919fa93391  ...  negative\n",
       "18  af3fed7fc3  ...  negative\n",
       "19  40e7becabf  ...   neutral\n",
       "\n",
       "[20 rows x 4 columns]"
      ]
     },
     "execution_count": 54,
     "metadata": {
      "tags": []
     },
     "output_type": "execute_result"
    }
   ],
   "source": [
    "train_data.head(20)"
   ]
  },
  {
   "cell_type": "code",
   "execution_count": 53,
   "metadata": {
    "colab": {
     "base_uri": "https://localhost:8080/"
    },
    "executionInfo": {
     "elapsed": 1312,
     "status": "ok",
     "timestamp": 1617362895709,
     "user": {
      "displayName": "Sagar Kumar Karn",
      "photoUrl": "",
      "userId": "13390448591546102842"
     },
     "user_tz": -330
    },
    "id": "LdRzgpzxU5Kf",
    "outputId": "48ca3f98-478b-43a0-9944-53ef1c337c08"
   },
   "outputs": [
    {
     "data": {
      "text/plain": [
       "27481"
      ]
     },
     "execution_count": 53,
     "metadata": {
      "tags": []
     },
     "output_type": "execute_result"
    }
   ],
   "source": [
    "len(train_data)"
   ]
  },
  {
   "cell_type": "code",
   "execution_count": 56,
   "metadata": {
    "colab": {
     "base_uri": "https://localhost:8080/",
     "height": 166
    },
    "executionInfo": {
     "elapsed": 1134,
     "status": "ok",
     "timestamp": 1617362961501,
     "user": {
      "displayName": "Sagar Kumar Karn",
      "photoUrl": "",
      "userId": "13390448591546102842"
     },
     "user_tz": -330
    },
    "id": "NR6e843wVxfS",
    "outputId": "35447190-379c-46c2-b513-d77cb5ff2905"
   },
   "outputs": [
    {
     "data": {
      "text/html": [
       "<div>\n",
       "<style scoped>\n",
       "    .dataframe tbody tr th:only-of-type {\n",
       "        vertical-align: middle;\n",
       "    }\n",
       "\n",
       "    .dataframe tbody tr th {\n",
       "        vertical-align: top;\n",
       "    }\n",
       "\n",
       "    .dataframe thead th {\n",
       "        text-align: right;\n",
       "    }\n",
       "</style>\n",
       "<table border=\"1\" class=\"dataframe\">\n",
       "  <thead>\n",
       "    <tr style=\"text-align: right;\">\n",
       "      <th></th>\n",
       "      <th>textID</th>\n",
       "      <th>text</th>\n",
       "      <th>selected_text</th>\n",
       "    </tr>\n",
       "    <tr>\n",
       "      <th>sentiment</th>\n",
       "      <th></th>\n",
       "      <th></th>\n",
       "      <th></th>\n",
       "    </tr>\n",
       "  </thead>\n",
       "  <tbody>\n",
       "    <tr>\n",
       "      <th>negative</th>\n",
       "      <td>7781</td>\n",
       "      <td>7781</td>\n",
       "      <td>5861</td>\n",
       "    </tr>\n",
       "    <tr>\n",
       "      <th>neutral</th>\n",
       "      <td>11118</td>\n",
       "      <td>11117</td>\n",
       "      <td>11111</td>\n",
       "    </tr>\n",
       "    <tr>\n",
       "      <th>positive</th>\n",
       "      <td>8582</td>\n",
       "      <td>8582</td>\n",
       "      <td>5537</td>\n",
       "    </tr>\n",
       "  </tbody>\n",
       "</table>\n",
       "</div>"
      ],
      "text/plain": [
       "           textID   text  selected_text\n",
       "sentiment                              \n",
       "negative     7781   7781           5861\n",
       "neutral     11118  11117          11111\n",
       "positive     8582   8582           5537"
      ]
     },
     "execution_count": 56,
     "metadata": {
      "tags": []
     },
     "output_type": "execute_result"
    }
   ],
   "source": [
    "train_data.groupby('sentiment').nunique()"
   ]
  },
  {
   "cell_type": "code",
   "execution_count": 57,
   "metadata": {
    "colab": {
     "base_uri": "https://localhost:8080/",
     "height": 639
    },
    "executionInfo": {
     "elapsed": 1187,
     "status": "ok",
     "timestamp": 1617362975463,
     "user": {
      "displayName": "Sagar Kumar Karn",
      "photoUrl": "",
      "userId": "13390448591546102842"
     },
     "user_tz": -330
    },
    "id": "2jHlbrScWA09",
    "outputId": "518b8744-79f1-4839-f4dd-355ab58d6568"
   },
   "outputs": [
    {
     "data": {
      "text/html": [
       "<div>\n",
       "<style scoped>\n",
       "    .dataframe tbody tr th:only-of-type {\n",
       "        vertical-align: middle;\n",
       "    }\n",
       "\n",
       "    .dataframe tbody tr th {\n",
       "        vertical-align: top;\n",
       "    }\n",
       "\n",
       "    .dataframe thead th {\n",
       "        text-align: right;\n",
       "    }\n",
       "</style>\n",
       "<table border=\"1\" class=\"dataframe\">\n",
       "  <thead>\n",
       "    <tr style=\"text-align: right;\">\n",
       "      <th></th>\n",
       "      <th>textID</th>\n",
       "      <th>text</th>\n",
       "      <th>selected_text</th>\n",
       "      <th>sentiment</th>\n",
       "    </tr>\n",
       "  </thead>\n",
       "  <tbody>\n",
       "    <tr>\n",
       "      <th>0</th>\n",
       "      <td>cb774db0d1</td>\n",
       "      <td>I`d have responded, if I were going</td>\n",
       "      <td>I`d have responded, if I were going</td>\n",
       "      <td>neutral</td>\n",
       "    </tr>\n",
       "    <tr>\n",
       "      <th>1</th>\n",
       "      <td>549e992a42</td>\n",
       "      <td>Sooo SAD I will miss you here in San Diego!!!</td>\n",
       "      <td>Sooo SAD</td>\n",
       "      <td>negative</td>\n",
       "    </tr>\n",
       "    <tr>\n",
       "      <th>2</th>\n",
       "      <td>088c60f138</td>\n",
       "      <td>my boss is bullying me...</td>\n",
       "      <td>bullying me</td>\n",
       "      <td>negative</td>\n",
       "    </tr>\n",
       "    <tr>\n",
       "      <th>3</th>\n",
       "      <td>9642c003ef</td>\n",
       "      <td>what interview! leave me alone</td>\n",
       "      <td>leave me alone</td>\n",
       "      <td>negative</td>\n",
       "    </tr>\n",
       "    <tr>\n",
       "      <th>4</th>\n",
       "      <td>358bd9e861</td>\n",
       "      <td>Sons of ****, why couldn`t they put them on t...</td>\n",
       "      <td>Sons of ****,</td>\n",
       "      <td>negative</td>\n",
       "    </tr>\n",
       "    <tr>\n",
       "      <th>5</th>\n",
       "      <td>28b57f3990</td>\n",
       "      <td>http://www.dothebouncy.com/smf - some shameles...</td>\n",
       "      <td>http://www.dothebouncy.com/smf - some shameles...</td>\n",
       "      <td>neutral</td>\n",
       "    </tr>\n",
       "    <tr>\n",
       "      <th>6</th>\n",
       "      <td>6e0c6d75b1</td>\n",
       "      <td>2am feedings for the baby are fun when he is a...</td>\n",
       "      <td>fun</td>\n",
       "      <td>positive</td>\n",
       "    </tr>\n",
       "    <tr>\n",
       "      <th>7</th>\n",
       "      <td>50e14c0bb8</td>\n",
       "      <td>Soooo high</td>\n",
       "      <td>Soooo high</td>\n",
       "      <td>neutral</td>\n",
       "    </tr>\n",
       "    <tr>\n",
       "      <th>8</th>\n",
       "      <td>e050245fbd</td>\n",
       "      <td>Both of you</td>\n",
       "      <td>Both of you</td>\n",
       "      <td>neutral</td>\n",
       "    </tr>\n",
       "    <tr>\n",
       "      <th>9</th>\n",
       "      <td>fc2cbefa9d</td>\n",
       "      <td>Journey!? Wow... u just became cooler.  hehe....</td>\n",
       "      <td>Wow... u just became cooler.</td>\n",
       "      <td>positive</td>\n",
       "    </tr>\n",
       "    <tr>\n",
       "      <th>10</th>\n",
       "      <td>2339a9b08b</td>\n",
       "      <td>as much as i love to be hopeful, i reckon the...</td>\n",
       "      <td>as much as i love to be hopeful, i reckon the ...</td>\n",
       "      <td>neutral</td>\n",
       "    </tr>\n",
       "    <tr>\n",
       "      <th>11</th>\n",
       "      <td>16fab9f95b</td>\n",
       "      <td>I really really like the song Love Story by Ta...</td>\n",
       "      <td>like</td>\n",
       "      <td>positive</td>\n",
       "    </tr>\n",
       "    <tr>\n",
       "      <th>12</th>\n",
       "      <td>74a76f6e0a</td>\n",
       "      <td>My Sharpie is running DANGERously low on ink</td>\n",
       "      <td>DANGERously</td>\n",
       "      <td>negative</td>\n",
       "    </tr>\n",
       "    <tr>\n",
       "      <th>13</th>\n",
       "      <td>04dd1d2e34</td>\n",
       "      <td>i want to go to music tonight but i lost my vo...</td>\n",
       "      <td>lost</td>\n",
       "      <td>negative</td>\n",
       "    </tr>\n",
       "    <tr>\n",
       "      <th>14</th>\n",
       "      <td>bbe3cbf620</td>\n",
       "      <td>test test from the LG enV2</td>\n",
       "      <td>test test from the LG enV2</td>\n",
       "      <td>neutral</td>\n",
       "    </tr>\n",
       "    <tr>\n",
       "      <th>15</th>\n",
       "      <td>8a939bfb59</td>\n",
       "      <td>Uh oh, I am sunburned</td>\n",
       "      <td>Uh oh, I am sunburned</td>\n",
       "      <td>negative</td>\n",
       "    </tr>\n",
       "    <tr>\n",
       "      <th>16</th>\n",
       "      <td>3440297f8b</td>\n",
       "      <td>S`ok, trying to plot alternatives as we speak...</td>\n",
       "      <td>*sigh*</td>\n",
       "      <td>negative</td>\n",
       "    </tr>\n",
       "    <tr>\n",
       "      <th>17</th>\n",
       "      <td>919fa93391</td>\n",
       "      <td>i`ve been sick for the past few days  and thus...</td>\n",
       "      <td>sick</td>\n",
       "      <td>negative</td>\n",
       "    </tr>\n",
       "    <tr>\n",
       "      <th>18</th>\n",
       "      <td>af3fed7fc3</td>\n",
       "      <td>is back home now      gonna miss every one</td>\n",
       "      <td>onna</td>\n",
       "      <td>negative</td>\n",
       "    </tr>\n",
       "    <tr>\n",
       "      <th>19</th>\n",
       "      <td>40e7becabf</td>\n",
       "      <td>Hes just not that into you</td>\n",
       "      <td>Hes just not that into you</td>\n",
       "      <td>neutral</td>\n",
       "    </tr>\n",
       "  </tbody>\n",
       "</table>\n",
       "</div>"
      ],
      "text/plain": [
       "        textID  ... sentiment\n",
       "0   cb774db0d1  ...   neutral\n",
       "1   549e992a42  ...  negative\n",
       "2   088c60f138  ...  negative\n",
       "3   9642c003ef  ...  negative\n",
       "4   358bd9e861  ...  negative\n",
       "5   28b57f3990  ...   neutral\n",
       "6   6e0c6d75b1  ...  positive\n",
       "7   50e14c0bb8  ...   neutral\n",
       "8   e050245fbd  ...   neutral\n",
       "9   fc2cbefa9d  ...  positive\n",
       "10  2339a9b08b  ...   neutral\n",
       "11  16fab9f95b  ...  positive\n",
       "12  74a76f6e0a  ...  negative\n",
       "13  04dd1d2e34  ...  negative\n",
       "14  bbe3cbf620  ...   neutral\n",
       "15  8a939bfb59  ...  negative\n",
       "16  3440297f8b  ...  negative\n",
       "17  919fa93391  ...  negative\n",
       "18  af3fed7fc3  ...  negative\n",
       "19  40e7becabf  ...   neutral\n",
       "\n",
       "[20 rows x 4 columns]"
      ]
     },
     "execution_count": 57,
     "metadata": {
      "tags": []
     },
     "output_type": "execute_result"
    }
   ],
   "source": [
    "train_data.head(20)"
   ]
  },
  {
   "cell_type": "code",
   "execution_count": 59,
   "metadata": {
    "colab": {
     "base_uri": "https://localhost:8080/",
     "height": 195
    },
    "executionInfo": {
     "elapsed": 1105,
     "status": "ok",
     "timestamp": 1617363045229,
     "user": {
      "displayName": "Sagar Kumar Karn",
      "photoUrl": "",
      "userId": "13390448591546102842"
     },
     "user_tz": -330
    },
    "id": "lyFuN_GkWHYB",
    "outputId": "a4d7c7f7-9966-43f7-8bb4-a1dba800062e"
   },
   "outputs": [
    {
     "data": {
      "text/html": [
       "<div>\n",
       "<style scoped>\n",
       "    .dataframe tbody tr th:only-of-type {\n",
       "        vertical-align: middle;\n",
       "    }\n",
       "\n",
       "    .dataframe tbody tr th {\n",
       "        vertical-align: top;\n",
       "    }\n",
       "\n",
       "    .dataframe thead th {\n",
       "        text-align: right;\n",
       "    }\n",
       "</style>\n",
       "<table border=\"1\" class=\"dataframe\">\n",
       "  <thead>\n",
       "    <tr style=\"text-align: right;\">\n",
       "      <th></th>\n",
       "      <th>selected_text</th>\n",
       "      <th>sentiment</th>\n",
       "    </tr>\n",
       "  </thead>\n",
       "  <tbody>\n",
       "    <tr>\n",
       "      <th>0</th>\n",
       "      <td>I`d have responded, if I were going</td>\n",
       "      <td>neutral</td>\n",
       "    </tr>\n",
       "    <tr>\n",
       "      <th>1</th>\n",
       "      <td>Sooo SAD</td>\n",
       "      <td>negative</td>\n",
       "    </tr>\n",
       "    <tr>\n",
       "      <th>2</th>\n",
       "      <td>bullying me</td>\n",
       "      <td>negative</td>\n",
       "    </tr>\n",
       "    <tr>\n",
       "      <th>3</th>\n",
       "      <td>leave me alone</td>\n",
       "      <td>negative</td>\n",
       "    </tr>\n",
       "    <tr>\n",
       "      <th>4</th>\n",
       "      <td>Sons of ****,</td>\n",
       "      <td>negative</td>\n",
       "    </tr>\n",
       "  </tbody>\n",
       "</table>\n",
       "</div>"
      ],
      "text/plain": [
       "                         selected_text sentiment\n",
       "0  I`d have responded, if I were going   neutral\n",
       "1                             Sooo SAD  negative\n",
       "2                          bullying me  negative\n",
       "3                       leave me alone  negative\n",
       "4                        Sons of ****,  negative"
      ]
     },
     "execution_count": 59,
     "metadata": {
      "tags": []
     },
     "output_type": "execute_result"
    }
   ],
   "source": [
    "train_data = train_data[['selected_text','sentiment']]\n",
    "train_data.head()"
   ]
  },
  {
   "cell_type": "code",
   "execution_count": 61,
   "metadata": {
    "colab": {
     "base_uri": "https://localhost:8080/"
    },
    "executionInfo": {
     "elapsed": 1145,
     "status": "ok",
     "timestamp": 1617363097991,
     "user": {
      "displayName": "Sagar Kumar Karn",
      "photoUrl": "",
      "userId": "13390448591546102842"
     },
     "user_tz": -330
    },
    "id": "GNjjWiqeWWOF",
    "outputId": "de1f159b-fbc9-42c2-907d-8a7791486402"
   },
   "outputs": [
    {
     "data": {
      "text/plain": [
       "1"
      ]
     },
     "execution_count": 61,
     "metadata": {
      "tags": []
     },
     "output_type": "execute_result"
    }
   ],
   "source": [
    "train_data[\"selected_text\"].isnull().sum()"
   ]
  },
  {
   "cell_type": "code",
   "execution_count": 63,
   "metadata": {
    "executionInfo": {
     "elapsed": 2201,
     "status": "ok",
     "timestamp": 1617363165166,
     "user": {
      "displayName": "Sagar Kumar Karn",
      "photoUrl": "",
      "userId": "13390448591546102842"
     },
     "user_tz": -330
    },
    "id": "XJYzlmzFWjUH"
   },
   "outputs": [],
   "source": [
    "train_data[\"selected_text\"].fillna(\"No content\", inplace = True)"
   ]
  },
  {
   "cell_type": "code",
   "execution_count": 65,
   "metadata": {
    "executionInfo": {
     "elapsed": 1095,
     "status": "ok",
     "timestamp": 1617363304277,
     "user": {
      "displayName": "Sagar Kumar Karn",
      "photoUrl": "",
      "userId": "13390448591546102842"
     },
     "user_tz": -330
    },
    "id": "fP7iGeQNWsR0"
   },
   "outputs": [],
   "source": [
    "def clean_data(data):\n",
    "    \n",
    "    # We need to remove URL's. We remove by using regular expression\n",
    "    url_pattern = re.compile(r'https?://\\S+|www\\.\\S+')\n",
    "    data = url_pattern.sub(r'', data)\n",
    "\n",
    "    # We need to remove emails. We remove by using regular expression\n",
    "    data = re.sub('\\S*@\\S*\\s?', '', data)\n",
    "\n",
    "    #     # We need to remove new line characters. We remove by using regular expression \n",
    "    data = re.sub('\\s+', ' ', data)\n",
    "\n",
    "    # Removing single quotes\n",
    "    data = re.sub(\"\\'\", \"\", data)\n",
    "        \n",
    "    return data"
   ]
  },
  {
   "cell_type": "code",
   "execution_count": 66,
   "metadata": {
    "colab": {
     "base_uri": "https://localhost:8080/"
    },
    "executionInfo": {
     "elapsed": 1144,
     "status": "ok",
     "timestamp": 1617363397452,
     "user": {
      "displayName": "Sagar Kumar Karn",
      "photoUrl": "",
      "userId": "13390448591546102842"
     },
     "user_tz": -330
    },
    "id": "-w9fjvYdXTMC",
    "outputId": "51dfee2e-e5ce-44a3-98e5-6b35c8736b06"
   },
   "outputs": [
    {
     "data": {
      "text/plain": [
       "['I`d have responded, if I were going',\n",
       " 'Sooo SAD',\n",
       " 'bullying me',\n",
       " 'leave me alone',\n",
       " 'Sons of ****,']"
      ]
     },
     "execution_count": 66,
     "metadata": {
      "tags": []
     },
     "output_type": "execute_result"
    }
   ],
   "source": [
    "temp = []\n",
    "#Splitting pd.Series to list\n",
    "list_of_data = train_data['selected_text'].values.tolist()\n",
    "for i in range(len(list_of_data)):\n",
    "    temp.append(clean_data(list_of_data[i]))\n",
    "list(temp[:5])"
   ]
  },
  {
   "cell_type": "code",
   "execution_count": 70,
   "metadata": {
    "colab": {
     "base_uri": "https://localhost:8080/"
    },
    "executionInfo": {
     "elapsed": 1910,
     "status": "ok",
     "timestamp": 1617363537559,
     "user": {
      "displayName": "Sagar Kumar Karn",
      "photoUrl": "",
      "userId": "13390448591546102842"
     },
     "user_tz": -330
    },
    "id": "_ELbVQkYXuaW",
    "outputId": "f94ed4f6-0920-4178-bf75-4dbba677ada5"
   },
   "outputs": [
    {
     "name": "stdout",
     "output_type": "stream",
     "text": [
      "[['have', 'responded', 'if', 'were', 'going'], ['sooo', 'sad'], ['bullying', 'me'], ['leave', 'me', 'alone'], ['sons', 'of'], ['some', 'shameless', 'plugging', 'for', 'the', 'best', 'rangers', 'forum', 'on', 'earth'], ['fun'], ['soooo', 'high'], ['both', 'of', 'you'], ['wow', 'just', 'became', 'cooler'], ['as', 'much', 'as', 'love', 'to', 'be', 'hopeful', 'reckon', 'the', 'chances', 'are', 'minimal', 'never', 'gonna', 'get', 'my', 'cake', 'and', 'stuff'], ['like'], ['dangerously'], ['lost'], ['test', 'test', 'from', 'the', 'lg', 'env'], ['uh', 'oh', 'am', 'sunburned'], ['sigh'], ['sick'], ['onna'], ['hes', 'just', 'not', 'that', 'into', 'you']]\n"
     ]
    }
   ],
   "source": [
    "#Breaking down to words\n",
    "def break_into_words(sentences):\n",
    "    for sentence in sentences:\n",
    "        yield(gensim.utils.simple_preprocess(str(sentence), deacc=True))  # deacc=True removes punctuations\n",
    "        \n",
    "\n",
    "data_words = list(break_into_words(temp))\n",
    "\n",
    "print(data_words[:20])\n"
   ]
  },
  {
   "cell_type": "code",
   "execution_count": 72,
   "metadata": {
    "executionInfo": {
     "elapsed": 1169,
     "status": "ok",
     "timestamp": 1617363595700,
     "user": {
      "displayName": "Sagar Kumar Karn",
      "photoUrl": "",
      "userId": "13390448591546102842"
     },
     "user_tz": -330
    },
    "id": "YeCqRzXVX7HB"
   },
   "outputs": [],
   "source": [
    "def detokenizer(text):\n",
    "  return TreebankWordDetokenizer().detokenize(text)"
   ]
  },
  {
   "cell_type": "code",
   "execution_count": 73,
   "metadata": {
    "colab": {
     "base_uri": "https://localhost:8080/"
    },
    "executionInfo": {
     "elapsed": 3289,
     "status": "ok",
     "timestamp": 1617363636054,
     "user": {
      "displayName": "Sagar Kumar Karn",
      "photoUrl": "",
      "userId": "13390448591546102842"
     },
     "user_tz": -330
    },
    "id": "D0MZcBTqYb06",
    "outputId": "d5ba7b70-fec4-427e-e888-13a69c13db3d"
   },
   "outputs": [
    {
     "name": "stdout",
     "output_type": "stream",
     "text": [
      "['have responded if were going', 'sooo sad', 'bullying me', 'leave me alone', 'sons of']\n"
     ]
    }
   ],
   "source": [
    "#Detokenizing the data\n",
    "data = []\n",
    "for i in range(len(data_words)):\n",
    "    data.append(detokenizer(data_words[i]))\n",
    "print(data[:5])"
   ]
  },
  {
   "cell_type": "code",
   "execution_count": 74,
   "metadata": {
    "executionInfo": {
     "elapsed": 1109,
     "status": "ok",
     "timestamp": 1617363766671,
     "user": {
      "displayName": "Sagar Kumar Karn",
      "photoUrl": "",
      "userId": "13390448591546102842"
     },
     "user_tz": -330
    },
    "id": "irkd5zQQYoJE"
   },
   "outputs": [],
   "source": [
    "data_labels = np.array(train_data['sentiment'])\n",
    "y_float = []\n",
    "for i in range(len(data_labels)):\n",
    "    if data_labels[i] == 'neutral':\n",
    "        y_float.append(0)\n",
    "    if data_labels[i] == 'negative':\n",
    "        y_float.append(1)\n",
    "    if data_labels[i] == 'positive':\n",
    "        y_float.append(2)\n",
    "y_float = np.array(y_float)\n",
    "data_labels = tf.keras.utils.to_categorical(y_float, 3, dtype=\"float32\")\n",
    "del y_float"
   ]
  },
  {
   "cell_type": "code",
   "execution_count": 75,
   "metadata": {
    "colab": {
     "base_uri": "https://localhost:8080/"
    },
    "executionInfo": {
     "elapsed": 1160,
     "status": "ok",
     "timestamp": 1617363781822,
     "user": {
      "displayName": "Sagar Kumar Karn",
      "photoUrl": "",
      "userId": "13390448591546102842"
     },
     "user_tz": -330
    },
    "id": "FCRw--DCZIjn",
    "outputId": "ca6bfead-3b0d-462a-e535-200418010c06"
   },
   "outputs": [
    {
     "data": {
      "text/plain": [
       "27481"
      ]
     },
     "execution_count": 75,
     "metadata": {
      "tags": []
     },
     "output_type": "execute_result"
    }
   ],
   "source": [
    "len(data_labels)"
   ]
  },
  {
   "cell_type": "code",
   "execution_count": 76,
   "metadata": {
    "colab": {
     "base_uri": "https://localhost:8080/"
    },
    "executionInfo": {
     "elapsed": 1692,
     "status": "ok",
     "timestamp": 1617364111866,
     "user": {
      "displayName": "Sagar Kumar Karn",
      "photoUrl": "",
      "userId": "13390448591546102842"
     },
     "user_tz": -330
    },
    "id": "Gl6YFUkwZMPz",
    "outputId": "87920e72-76a3-4e87-9f86-3173538eb798"
   },
   "outputs": [
    {
     "name": "stdout",
     "output_type": "stream",
     "text": [
      "[[   0    0    0 ...   68  146   41]\n",
      " [   0    0    0 ...    0  397   65]\n",
      " [   0    0    0 ...    0    0   11]\n",
      " ...\n",
      " [   0    0    0 ...  372   10    3]\n",
      " [   0    0    0 ...   24  542    4]\n",
      " [   0    0    0 ... 2424  199  657]]\n"
     ]
    }
   ],
   "source": [
    "from keras.models import Sequential\n",
    "from keras import layers\n",
    "from keras.optimizers import RMSprop,Adam\n",
    "from keras.preprocessing.text import Tokenizer\n",
    "from keras.preprocessing.sequence import pad_sequences\n",
    "from keras import regularizers\n",
    "from keras import backend as K\n",
    "from keras.callbacks import ModelCheckpoint\n",
    "max_words = 5000\n",
    "max_len = 200\n",
    "\n",
    "tokenizer = Tokenizer(num_words=max_words)\n",
    "tokenizer.fit_on_texts(data)\n",
    "sequences = tokenizer.texts_to_sequences(data)\n",
    "tweets = pad_sequences(sequences, maxlen=max_len)\n",
    "print(tweets)"
   ]
  },
  {
   "cell_type": "code",
   "execution_count": 77,
   "metadata": {
    "colab": {
     "base_uri": "https://localhost:8080/"
    },
    "executionInfo": {
     "elapsed": 1050,
     "status": "ok",
     "timestamp": 1617364158150,
     "user": {
      "displayName": "Sagar Kumar Karn",
      "photoUrl": "",
      "userId": "13390448591546102842"
     },
     "user_tz": -330
    },
    "id": "zBGPEAX1acql",
    "outputId": "aaefb26b-e291-489d-89a1-55d0f7a5f7d6"
   },
   "outputs": [
    {
     "name": "stdout",
     "output_type": "stream",
     "text": [
      "[[1. 0. 0.]\n",
      " [0. 1. 0.]\n",
      " [0. 1. 0.]\n",
      " ...\n",
      " [0. 0. 1.]\n",
      " [0. 0. 1.]\n",
      " [1. 0. 0.]]\n"
     ]
    }
   ],
   "source": [
    "print(data_labels)\n"
   ]
  },
  {
   "cell_type": "code",
   "execution_count": 79,
   "metadata": {
    "colab": {
     "base_uri": "https://localhost:8080/"
    },
    "executionInfo": {
     "elapsed": 795,
     "status": "ok",
     "timestamp": 1617364292156,
     "user": {
      "displayName": "Sagar Kumar Karn",
      "photoUrl": "",
      "userId": "13390448591546102842"
     },
     "user_tz": -330
    },
    "id": "QTf0uOrVaoJR",
    "outputId": "7b6cd804-6e40-48c2-cefe-0484f738d5fe"
   },
   "outputs": [
    {
     "name": "stdout",
     "output_type": "stream",
     "text": [
      "20610 6871 20610 6871\n"
     ]
    }
   ],
   "source": [
    "X_train, X_test, y_train, y_test = train_test_split(tweets,data_labels, random_state=0)\n",
    "print (len(X_train),len(X_test),len(y_train),len(y_test))"
   ]
  },
  {
   "cell_type": "code",
   "execution_count": 82,
   "metadata": {
    "colab": {
     "base_uri": "https://localhost:8080/"
    },
    "executionInfo": {
     "elapsed": 3059413,
     "status": "ok",
     "timestamp": 1617367485341,
     "user": {
      "displayName": "Sagar Kumar Karn",
      "photoUrl": "",
      "userId": "13390448591546102842"
     },
     "user_tz": -330
    },
    "id": "9t2hJn5YbGbj",
    "outputId": "aca4ea01-addf-4c21-8df8-551949fb1c55"
   },
   "outputs": [
    {
     "name": "stdout",
     "output_type": "stream",
     "text": [
      "WARNING:tensorflow:`period` argument is deprecated. Please use `save_freq` to specify the frequency in number of batches seen.\n",
      "Epoch 1/70\n",
      "645/645 [==============================] - 47s 69ms/step - loss: 0.9059 - accuracy: 0.5945 - val_loss: 0.6562 - val_accuracy: 0.7299\n",
      "\n",
      "Epoch 00001: val_accuracy improved from -inf to 0.72988, saving model to best_model1.hdf5\n",
      "Epoch 2/70\n",
      "645/645 [==============================] - 44s 69ms/step - loss: 0.6042 - accuracy: 0.7616 - val_loss: 0.5278 - val_accuracy: 0.7930\n",
      "\n",
      "Epoch 00002: val_accuracy improved from 0.72988 to 0.79304, saving model to best_model1.hdf5\n",
      "Epoch 3/70\n",
      "645/645 [==============================] - 45s 70ms/step - loss: 0.5170 - accuracy: 0.7959 - val_loss: 0.4931 - val_accuracy: 0.8118\n",
      "\n",
      "Epoch 00003: val_accuracy improved from 0.79304 to 0.81182, saving model to best_model1.hdf5\n",
      "Epoch 4/70\n",
      "645/645 [==============================] - 45s 69ms/step - loss: 0.4808 - accuracy: 0.8124 - val_loss: 0.4861 - val_accuracy: 0.8136\n",
      "\n",
      "Epoch 00004: val_accuracy improved from 0.81182 to 0.81356, saving model to best_model1.hdf5\n",
      "Epoch 5/70\n",
      "645/645 [==============================] - 45s 69ms/step - loss: 0.4621 - accuracy: 0.8251 - val_loss: 0.4724 - val_accuracy: 0.8197\n",
      "\n",
      "Epoch 00005: val_accuracy improved from 0.81356 to 0.81968, saving model to best_model1.hdf5\n",
      "Epoch 6/70\n",
      "645/645 [==============================] - 45s 69ms/step - loss: 0.4466 - accuracy: 0.8297 - val_loss: 0.4671 - val_accuracy: 0.8194\n",
      "\n",
      "Epoch 00006: val_accuracy did not improve from 0.81968\n",
      "Epoch 7/70\n",
      "645/645 [==============================] - 45s 69ms/step - loss: 0.4376 - accuracy: 0.8296 - val_loss: 0.4603 - val_accuracy: 0.8236\n",
      "\n",
      "Epoch 00007: val_accuracy improved from 0.81968 to 0.82361, saving model to best_model1.hdf5\n",
      "Epoch 8/70\n",
      "645/645 [==============================] - 45s 69ms/step - loss: 0.4336 - accuracy: 0.8343 - val_loss: 0.4554 - val_accuracy: 0.8254\n",
      "\n",
      "Epoch 00008: val_accuracy improved from 0.82361 to 0.82535, saving model to best_model1.hdf5\n",
      "Epoch 9/70\n",
      "645/645 [==============================] - 45s 70ms/step - loss: 0.4141 - accuracy: 0.8442 - val_loss: 0.4535 - val_accuracy: 0.8274\n",
      "\n",
      "Epoch 00009: val_accuracy improved from 0.82535 to 0.82739, saving model to best_model1.hdf5\n",
      "Epoch 10/70\n",
      "645/645 [==============================] - 45s 70ms/step - loss: 0.4158 - accuracy: 0.8421 - val_loss: 0.4587 - val_accuracy: 0.8261\n",
      "\n",
      "Epoch 00010: val_accuracy did not improve from 0.82739\n",
      "Epoch 11/70\n",
      "645/645 [==============================] - 45s 70ms/step - loss: 0.3967 - accuracy: 0.8533 - val_loss: 0.4461 - val_accuracy: 0.8281\n",
      "\n",
      "Epoch 00011: val_accuracy improved from 0.82739 to 0.82812, saving model to best_model1.hdf5\n",
      "Epoch 12/70\n",
      "645/645 [==============================] - 45s 69ms/step - loss: 0.3936 - accuracy: 0.8560 - val_loss: 0.4446 - val_accuracy: 0.8277\n",
      "\n",
      "Epoch 00012: val_accuracy did not improve from 0.82812\n",
      "Epoch 13/70\n",
      "645/645 [==============================] - 45s 69ms/step - loss: 0.3898 - accuracy: 0.8569 - val_loss: 0.4457 - val_accuracy: 0.8302\n",
      "\n",
      "Epoch 00013: val_accuracy improved from 0.82812 to 0.83016, saving model to best_model1.hdf5\n",
      "Epoch 14/70\n",
      "645/645 [==============================] - 44s 69ms/step - loss: 0.3783 - accuracy: 0.8616 - val_loss: 0.4416 - val_accuracy: 0.8313\n",
      "\n",
      "Epoch 00014: val_accuracy improved from 0.83016 to 0.83132, saving model to best_model1.hdf5\n",
      "Epoch 15/70\n",
      "645/645 [==============================] - 45s 69ms/step - loss: 0.3685 - accuracy: 0.8667 - val_loss: 0.4376 - val_accuracy: 0.8304\n",
      "\n",
      "Epoch 00015: val_accuracy did not improve from 0.83132\n",
      "Epoch 16/70\n",
      "645/645 [==============================] - 45s 69ms/step - loss: 0.3771 - accuracy: 0.8583 - val_loss: 0.4384 - val_accuracy: 0.8322\n",
      "\n",
      "Epoch 00016: val_accuracy improved from 0.83132 to 0.83219, saving model to best_model1.hdf5\n",
      "Epoch 17/70\n",
      "645/645 [==============================] - 45s 69ms/step - loss: 0.3705 - accuracy: 0.8653 - val_loss: 0.4468 - val_accuracy: 0.8313\n",
      "\n",
      "Epoch 00017: val_accuracy did not improve from 0.83219\n",
      "Epoch 18/70\n",
      "645/645 [==============================] - 45s 69ms/step - loss: 0.3652 - accuracy: 0.8631 - val_loss: 0.4347 - val_accuracy: 0.8325\n",
      "\n",
      "Epoch 00018: val_accuracy improved from 0.83219 to 0.83248, saving model to best_model1.hdf5\n",
      "Epoch 19/70\n",
      "645/645 [==============================] - 45s 69ms/step - loss: 0.3619 - accuracy: 0.8693 - val_loss: 0.4305 - val_accuracy: 0.8339\n",
      "\n",
      "Epoch 00019: val_accuracy improved from 0.83248 to 0.83394, saving model to best_model1.hdf5\n",
      "Epoch 20/70\n",
      "645/645 [==============================] - 45s 70ms/step - loss: 0.3712 - accuracy: 0.8610 - val_loss: 0.4337 - val_accuracy: 0.8351\n",
      "\n",
      "Epoch 00020: val_accuracy improved from 0.83394 to 0.83510, saving model to best_model1.hdf5\n",
      "Epoch 21/70\n",
      "645/645 [==============================] - 45s 69ms/step - loss: 0.3573 - accuracy: 0.8683 - val_loss: 0.4276 - val_accuracy: 0.8347\n",
      "\n",
      "Epoch 00021: val_accuracy did not improve from 0.83510\n",
      "Epoch 22/70\n",
      "645/645 [==============================] - 45s 70ms/step - loss: 0.3475 - accuracy: 0.8722 - val_loss: 0.4381 - val_accuracy: 0.8341\n",
      "\n",
      "Epoch 00022: val_accuracy did not improve from 0.83510\n",
      "Epoch 23/70\n",
      "645/645 [==============================] - 45s 70ms/step - loss: 0.3526 - accuracy: 0.8682 - val_loss: 0.4313 - val_accuracy: 0.8355\n",
      "\n",
      "Epoch 00023: val_accuracy improved from 0.83510 to 0.83554, saving model to best_model1.hdf5\n",
      "Epoch 24/70\n",
      "645/645 [==============================] - 45s 70ms/step - loss: 0.3490 - accuracy: 0.8707 - val_loss: 0.4283 - val_accuracy: 0.8358\n",
      "\n",
      "Epoch 00024: val_accuracy improved from 0.83554 to 0.83583, saving model to best_model1.hdf5\n",
      "Epoch 25/70\n",
      "645/645 [==============================] - 48s 75ms/step - loss: 0.3498 - accuracy: 0.8739 - val_loss: 0.4331 - val_accuracy: 0.8374\n",
      "\n",
      "Epoch 00025: val_accuracy improved from 0.83583 to 0.83743, saving model to best_model1.hdf5\n",
      "Epoch 26/70\n",
      "645/645 [==============================] - 49s 76ms/step - loss: 0.3373 - accuracy: 0.8751 - val_loss: 0.4332 - val_accuracy: 0.8345\n",
      "\n",
      "Epoch 00026: val_accuracy did not improve from 0.83743\n",
      "Epoch 27/70\n",
      "645/645 [==============================] - 48s 75ms/step - loss: 0.3476 - accuracy: 0.8714 - val_loss: 0.4277 - val_accuracy: 0.8406\n",
      "\n",
      "Epoch 00027: val_accuracy improved from 0.83743 to 0.84063, saving model to best_model1.hdf5\n",
      "Epoch 28/70\n",
      "645/645 [==============================] - 49s 76ms/step - loss: 0.3472 - accuracy: 0.8719 - val_loss: 0.4344 - val_accuracy: 0.8379\n",
      "\n",
      "Epoch 00028: val_accuracy did not improve from 0.84063\n",
      "Epoch 29/70\n",
      "645/645 [==============================] - 49s 75ms/step - loss: 0.3362 - accuracy: 0.8741 - val_loss: 0.4311 - val_accuracy: 0.8412\n",
      "\n",
      "Epoch 00029: val_accuracy improved from 0.84063 to 0.84122, saving model to best_model1.hdf5\n",
      "Epoch 30/70\n",
      "645/645 [==============================] - 42s 65ms/step - loss: 0.3330 - accuracy: 0.8783 - val_loss: 0.4279 - val_accuracy: 0.8367\n",
      "\n",
      "Epoch 00030: val_accuracy did not improve from 0.84122\n",
      "Epoch 31/70\n",
      "645/645 [==============================] - 42s 65ms/step - loss: 0.3427 - accuracy: 0.8729 - val_loss: 0.4271 - val_accuracy: 0.8379\n",
      "\n",
      "Epoch 00031: val_accuracy did not improve from 0.84122\n",
      "Epoch 32/70\n",
      "645/645 [==============================] - 42s 65ms/step - loss: 0.3381 - accuracy: 0.8746 - val_loss: 0.4237 - val_accuracy: 0.8383\n",
      "\n",
      "Epoch 00032: val_accuracy did not improve from 0.84122\n",
      "Epoch 33/70\n",
      "645/645 [==============================] - 42s 65ms/step - loss: 0.3329 - accuracy: 0.8783 - val_loss: 0.4284 - val_accuracy: 0.8383\n",
      "\n",
      "Epoch 00033: val_accuracy did not improve from 0.84122\n",
      "Epoch 34/70\n",
      "645/645 [==============================] - 42s 65ms/step - loss: 0.3485 - accuracy: 0.8726 - val_loss: 0.4322 - val_accuracy: 0.8393\n",
      "\n",
      "Epoch 00034: val_accuracy did not improve from 0.84122\n",
      "Epoch 35/70\n",
      "645/645 [==============================] - 42s 65ms/step - loss: 0.3351 - accuracy: 0.8766 - val_loss: 0.4300 - val_accuracy: 0.8402\n",
      "\n",
      "Epoch 00035: val_accuracy did not improve from 0.84122\n",
      "Epoch 36/70\n",
      "645/645 [==============================] - 42s 65ms/step - loss: 0.3452 - accuracy: 0.8697 - val_loss: 0.4295 - val_accuracy: 0.8377\n",
      "\n",
      "Epoch 00036: val_accuracy did not improve from 0.84122\n",
      "Epoch 37/70\n",
      "645/645 [==============================] - 42s 65ms/step - loss: 0.3329 - accuracy: 0.8760 - val_loss: 0.4259 - val_accuracy: 0.8387\n",
      "\n",
      "Epoch 00037: val_accuracy did not improve from 0.84122\n",
      "Epoch 38/70\n",
      "645/645 [==============================] - 42s 65ms/step - loss: 0.3355 - accuracy: 0.8762 - val_loss: 0.4315 - val_accuracy: 0.8389\n",
      "\n",
      "Epoch 00038: val_accuracy did not improve from 0.84122\n",
      "Epoch 39/70\n",
      "645/645 [==============================] - 43s 66ms/step - loss: 0.3319 - accuracy: 0.8769 - val_loss: 0.4275 - val_accuracy: 0.8402\n",
      "\n",
      "Epoch 00039: val_accuracy did not improve from 0.84122\n",
      "Epoch 40/70\n",
      "645/645 [==============================] - 42s 66ms/step - loss: 0.3337 - accuracy: 0.8767 - val_loss: 0.4275 - val_accuracy: 0.8401\n",
      "\n",
      "Epoch 00040: val_accuracy did not improve from 0.84122\n",
      "Epoch 41/70\n",
      "645/645 [==============================] - 42s 65ms/step - loss: 0.3258 - accuracy: 0.8820 - val_loss: 0.4267 - val_accuracy: 0.8417\n",
      "\n",
      "Epoch 00041: val_accuracy improved from 0.84122 to 0.84165, saving model to best_model1.hdf5\n",
      "Epoch 42/70\n",
      "645/645 [==============================] - 42s 65ms/step - loss: 0.3367 - accuracy: 0.8769 - val_loss: 0.4257 - val_accuracy: 0.8411\n",
      "\n",
      "Epoch 00042: val_accuracy did not improve from 0.84165\n",
      "Epoch 43/70\n",
      "645/645 [==============================] - 42s 66ms/step - loss: 0.3371 - accuracy: 0.8748 - val_loss: 0.4290 - val_accuracy: 0.8419\n",
      "\n",
      "Epoch 00043: val_accuracy improved from 0.84165 to 0.84194, saving model to best_model1.hdf5\n",
      "Epoch 44/70\n",
      "645/645 [==============================] - 42s 65ms/step - loss: 0.3232 - accuracy: 0.8832 - val_loss: 0.4298 - val_accuracy: 0.8417\n",
      "\n",
      "Epoch 00044: val_accuracy did not improve from 0.84194\n",
      "Epoch 45/70\n",
      "645/645 [==============================] - 43s 66ms/step - loss: 0.3278 - accuracy: 0.8791 - val_loss: 0.4289 - val_accuracy: 0.8418\n",
      "\n",
      "Epoch 00045: val_accuracy did not improve from 0.84194\n",
      "Epoch 46/70\n",
      "645/645 [==============================] - 42s 65ms/step - loss: 0.3203 - accuracy: 0.8823 - val_loss: 0.4253 - val_accuracy: 0.8409\n",
      "\n",
      "Epoch 00046: val_accuracy did not improve from 0.84194\n",
      "Epoch 47/70\n",
      "645/645 [==============================] - 43s 66ms/step - loss: 0.3295 - accuracy: 0.8764 - val_loss: 0.4274 - val_accuracy: 0.8406\n",
      "\n",
      "Epoch 00047: val_accuracy did not improve from 0.84194\n",
      "Epoch 48/70\n",
      "645/645 [==============================] - 42s 66ms/step - loss: 0.3270 - accuracy: 0.8788 - val_loss: 0.4256 - val_accuracy: 0.8417\n",
      "\n",
      "Epoch 00048: val_accuracy did not improve from 0.84194\n",
      "Epoch 49/70\n",
      "645/645 [==============================] - 42s 66ms/step - loss: 0.3350 - accuracy: 0.8775 - val_loss: 0.4369 - val_accuracy: 0.8387\n",
      "\n",
      "Epoch 00049: val_accuracy did not improve from 0.84194\n",
      "Epoch 50/70\n",
      "645/645 [==============================] - 42s 65ms/step - loss: 0.3253 - accuracy: 0.8813 - val_loss: 0.4278 - val_accuracy: 0.8428\n",
      "\n",
      "Epoch 00050: val_accuracy improved from 0.84194 to 0.84282, saving model to best_model1.hdf5\n",
      "Epoch 51/70\n",
      "645/645 [==============================] - 42s 65ms/step - loss: 0.3244 - accuracy: 0.8809 - val_loss: 0.4251 - val_accuracy: 0.8435\n",
      "\n",
      "Epoch 00051: val_accuracy improved from 0.84282 to 0.84355, saving model to best_model1.hdf5\n",
      "Epoch 52/70\n",
      "645/645 [==============================] - 42s 66ms/step - loss: 0.3242 - accuracy: 0.8802 - val_loss: 0.4276 - val_accuracy: 0.8428\n",
      "\n",
      "Epoch 00052: val_accuracy did not improve from 0.84355\n",
      "Epoch 53/70\n",
      "645/645 [==============================] - 42s 66ms/step - loss: 0.3194 - accuracy: 0.8843 - val_loss: 0.4257 - val_accuracy: 0.8437\n",
      "\n",
      "Epoch 00053: val_accuracy improved from 0.84355 to 0.84369, saving model to best_model1.hdf5\n",
      "Epoch 54/70\n",
      "645/645 [==============================] - 43s 66ms/step - loss: 0.3191 - accuracy: 0.8820 - val_loss: 0.4261 - val_accuracy: 0.8443\n",
      "\n",
      "Epoch 00054: val_accuracy improved from 0.84369 to 0.84427, saving model to best_model1.hdf5\n",
      "Epoch 55/70\n",
      "645/645 [==============================] - 43s 66ms/step - loss: 0.3191 - accuracy: 0.8847 - val_loss: 0.4264 - val_accuracy: 0.8444\n",
      "\n",
      "Epoch 00055: val_accuracy improved from 0.84427 to 0.84442, saving model to best_model1.hdf5\n",
      "Epoch 56/70\n",
      "645/645 [==============================] - 42s 66ms/step - loss: 0.3166 - accuracy: 0.8854 - val_loss: 0.4293 - val_accuracy: 0.8427\n",
      "\n",
      "Epoch 00056: val_accuracy did not improve from 0.84442\n",
      "Epoch 57/70\n",
      "645/645 [==============================] - 43s 66ms/step - loss: 0.3186 - accuracy: 0.8848 - val_loss: 0.4322 - val_accuracy: 0.8417\n",
      "\n",
      "Epoch 00057: val_accuracy did not improve from 0.84442\n",
      "Epoch 58/70\n",
      "645/645 [==============================] - 42s 66ms/step - loss: 0.3128 - accuracy: 0.8850 - val_loss: 0.4302 - val_accuracy: 0.8431\n",
      "\n",
      "Epoch 00058: val_accuracy did not improve from 0.84442\n",
      "Epoch 59/70\n",
      "645/645 [==============================] - 42s 66ms/step - loss: 0.3188 - accuracy: 0.8850 - val_loss: 0.4320 - val_accuracy: 0.8421\n",
      "\n",
      "Epoch 00059: val_accuracy did not improve from 0.84442\n",
      "Epoch 60/70\n",
      "645/645 [==============================] - 42s 66ms/step - loss: 0.3116 - accuracy: 0.8803 - val_loss: 0.4324 - val_accuracy: 0.8431\n",
      "\n",
      "Epoch 00060: val_accuracy did not improve from 0.84442\n",
      "Epoch 61/70\n",
      "645/645 [==============================] - 43s 66ms/step - loss: 0.3206 - accuracy: 0.8839 - val_loss: 0.4359 - val_accuracy: 0.8430\n",
      "\n",
      "Epoch 00061: val_accuracy did not improve from 0.84442\n",
      "Epoch 62/70\n",
      "645/645 [==============================] - 43s 66ms/step - loss: 0.3084 - accuracy: 0.8860 - val_loss: 0.4339 - val_accuracy: 0.8409\n",
      "\n",
      "Epoch 00062: val_accuracy did not improve from 0.84442\n",
      "Epoch 63/70\n",
      "645/645 [==============================] - 42s 66ms/step - loss: 0.3139 - accuracy: 0.8833 - val_loss: 0.4325 - val_accuracy: 0.8456\n",
      "\n",
      "Epoch 00063: val_accuracy improved from 0.84442 to 0.84558, saving model to best_model1.hdf5\n",
      "Epoch 64/70\n",
      "645/645 [==============================] - 42s 66ms/step - loss: 0.3142 - accuracy: 0.8867 - val_loss: 0.4303 - val_accuracy: 0.8438\n",
      "\n",
      "Epoch 00064: val_accuracy did not improve from 0.84558\n",
      "Epoch 65/70\n",
      "645/645 [==============================] - 43s 66ms/step - loss: 0.3102 - accuracy: 0.8860 - val_loss: 0.4352 - val_accuracy: 0.8409\n",
      "\n",
      "Epoch 00065: val_accuracy did not improve from 0.84558\n",
      "Epoch 66/70\n",
      "645/645 [==============================] - 43s 66ms/step - loss: 0.3165 - accuracy: 0.8856 - val_loss: 0.4342 - val_accuracy: 0.8451\n",
      "\n",
      "Epoch 00066: val_accuracy did not improve from 0.84558\n",
      "Epoch 67/70\n",
      "645/645 [==============================] - 43s 66ms/step - loss: 0.3108 - accuracy: 0.8827 - val_loss: 0.4305 - val_accuracy: 0.8435\n",
      "\n",
      "Epoch 00067: val_accuracy did not improve from 0.84558\n",
      "Epoch 68/70\n",
      "645/645 [==============================] - 43s 66ms/step - loss: 0.3144 - accuracy: 0.8840 - val_loss: 0.4318 - val_accuracy: 0.8469\n",
      "\n",
      "Epoch 00068: val_accuracy improved from 0.84558 to 0.84689, saving model to best_model1.hdf5\n",
      "Epoch 69/70\n",
      "645/645 [==============================] - 43s 67ms/step - loss: 0.3131 - accuracy: 0.8849 - val_loss: 0.4371 - val_accuracy: 0.8434\n",
      "\n",
      "Epoch 00069: val_accuracy did not improve from 0.84689\n",
      "Epoch 70/70\n",
      "645/645 [==============================] - 43s 66ms/step - loss: 0.3093 - accuracy: 0.8896 - val_loss: 0.4301 - val_accuracy: 0.8433\n",
      "\n",
      "Epoch 00070: val_accuracy did not improve from 0.84689\n"
     ]
    }
   ],
   "source": [
    "model1 = Sequential()\n",
    "model1.add(layers.Embedding(max_words, 20))\n",
    "model1.add(layers.LSTM(15,dropout=0.5))\n",
    "model1.add(layers.Dense(3,activation='softmax'))\n",
    "\n",
    "\n",
    "model1.compile(optimizer='rmsprop',loss='categorical_crossentropy', metrics=['accuracy'])\n",
    "#Implementing model checkpoins to save the best metric so that it is not lost on training.\n",
    "checkpoint1 = ModelCheckpoint(\"best_model1.hdf5\", monitor='val_accuracy', verbose=1,save_best_only=True, mode='auto', period=1,save_weights_only=False)\n",
    "history = model1.fit(X_train, y_train, epochs=70,validation_data=(X_test, y_test),callbacks=[checkpoint1])"
   ]
  },
  {
   "cell_type": "code",
   "execution_count": 84,
   "metadata": {
    "executionInfo": {
     "elapsed": 1238,
     "status": "ok",
     "timestamp": 1617367634838,
     "user": {
      "displayName": "Sagar Kumar Karn",
      "photoUrl": "",
      "userId": "13390448591546102842"
     },
     "user_tz": -330
    },
    "id": "C0e83N7cbPmh"
   },
   "outputs": [],
   "source": [
    "#Let's load the best model obtained during training\n",
    "best_model = keras.models.load_model(\"best_model1.hdf5\")\n"
   ]
  },
  {
   "cell_type": "code",
   "execution_count": 86,
   "metadata": {
    "colab": {
     "base_uri": "https://localhost:8080/"
    },
    "executionInfo": {
     "elapsed": 3424,
     "status": "ok",
     "timestamp": 1617367715929,
     "user": {
      "displayName": "Sagar Kumar Karn",
      "photoUrl": "",
      "userId": "13390448591546102842"
     },
     "user_tz": -330
    },
    "id": "2N0BN0R9nXgm",
    "outputId": "2d456163-77ad-4361-a347-24c5f332b87c"
   },
   "outputs": [
    {
     "name": "stdout",
     "output_type": "stream",
     "text": [
      "215/215 - 2s - loss: 0.4318 - accuracy: 0.8469\n",
      "Model total loss and accuracy:  0.4317575991153717 0.8468927145004272\n"
     ]
    }
   ],
   "source": [
    "test_loss, test_accuracy = best_model.evaluate(X_test, y_test, verbose=2)\n",
    "print('Model total loss and accuracy: ',test_loss,test_accuracy)\n"
   ]
  },
  {
   "cell_type": "code",
   "execution_count": 87,
   "metadata": {
    "executionInfo": {
     "elapsed": 4074,
     "status": "ok",
     "timestamp": 1617367741546,
     "user": {
      "displayName": "Sagar Kumar Karn",
      "photoUrl": "",
      "userId": "13390448591546102842"
     },
     "user_tz": -330
    },
    "id": "MSQPoH1moAOL"
   },
   "outputs": [],
   "source": [
    "predictions = best_model.predict(X_test)\n"
   ]
  },
  {
   "cell_type": "code",
   "execution_count": 99,
   "metadata": {
    "colab": {
     "base_uri": "https://localhost:8080/",
     "height": 35
    },
    "executionInfo": {
     "elapsed": 1131,
     "status": "ok",
     "timestamp": 1617368291152,
     "user": {
      "displayName": "Sagar Kumar Karn",
      "photoUrl": "",
      "userId": "13390448591546102842"
     },
     "user_tz": -330
    },
    "id": "t8AO5Js7oSQ7",
    "outputId": "5c12c107-931b-40a9-c678-6aabce691eab"
   },
   "outputs": [
    {
     "data": {
      "application/vnd.google.colaboratory.intrinsic+json": {
       "type": "string"
      },
      "text/plain": [
       "'Negative'"
      ]
     },
     "execution_count": 99,
     "metadata": {
      "tags": []
     },
     "output_type": "execute_result"
    }
   ],
   "source": [
    "sentiment = ['Neutral','Negative','Positive']\n",
    "sequence = tokenizer.texts_to_sequences(['i hate youtube ads, they are annoying '])\n",
    "test = pad_sequences(sequence, maxlen=max_len)\n",
    "sentiment[np.around(best_model.predict(test), decimals=0).argmax(axis=1)[0]]"
   ]
  },
  {
   "cell_type": "code",
   "execution_count": null,
   "metadata": {
    "id": "gZbcb9npoVaV"
   },
   "outputs": [],
   "source": []
  }
 ],
 "metadata": {
  "colab": {
   "authorship_tag": "ABX9TyPl9S8WzC4MpOGTKtQoKxd2",
   "name": "Twitter Sentiment Analyser.ipynb",
   "provenance": []
  },
  "kernelspec": {
   "display_name": "Python 3",
   "language": "python",
   "name": "python3"
  },
  "language_info": {
   "codemirror_mode": {
    "name": "ipython",
    "version": 3
   },
   "file_extension": ".py",
   "mimetype": "text/x-python",
   "name": "python",
   "nbconvert_exporter": "python",
   "pygments_lexer": "ipython3",
   "version": "3.5.2"
  }
 },
 "nbformat": 4,
 "nbformat_minor": 1
}
